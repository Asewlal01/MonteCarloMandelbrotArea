{
 "cells": [
  {
   "cell_type": "markdown",
   "metadata": {},
   "source": [
    "# Contributors\n",
    "Zijian Zhang 14851598 $\\\\$\n",
    "Amish Sewlal 13297503 $\\\\$\n",
    "Ravi Sharma Kaushik 14332744"
   ]
  },
  {
   "cell_type": "markdown",
   "source": [
    "# Imports"
   ],
   "metadata": {
    "collapsed": false
   }
  },
  {
   "cell_type": "code",
   "execution_count": 84,
   "outputs": [],
   "source": [
    "import numpy as np\n",
    "import matplotlib.pyplot as plt\n",
    "from Mandelbrot import *\n",
    "from MonteCarloIntegration import *"
   ],
   "metadata": {
    "collapsed": false,
    "ExecuteTime": {
     "end_time": "2023-11-15T16:31:28.287801Z",
     "start_time": "2023-11-15T16:31:28.239764900Z"
    }
   }
  },
  {
   "cell_type": "markdown",
   "metadata": {},
   "source": [
    "# Creating Mandlebrot Set"
   ]
  },
  {
   "cell_type": "code",
   "execution_count": 84,
   "metadata": {
    "ExecuteTime": {
     "end_time": "2023-11-15T16:31:28.326801400Z",
     "start_time": "2023-11-15T16:31:28.245765500Z"
    }
   },
   "outputs": [],
   "source": []
  },
  {
   "cell_type": "markdown",
   "metadata": {},
   "source": [
    "# Area of Mandlebrot Set using Monte Carlo Method"
   ]
  },
  {
   "cell_type": "code",
   "execution_count": 84,
   "metadata": {
    "ExecuteTime": {
     "end_time": "2023-11-15T16:31:28.330766700Z",
     "start_time": "2023-11-15T16:31:28.259768100Z"
    }
   },
   "outputs": [],
   "source": []
  },
  {
   "cell_type": "markdown",
   "metadata": {},
   "source": [
    "# Convergence study for various number of iterations"
   ]
  },
  {
   "cell_type": "code",
   "execution_count": 86,
   "metadata": {
    "ExecuteTime": {
     "end_time": "2023-11-15T16:35:03.013633900Z",
     "start_time": "2023-11-15T16:34:46.023097800Z"
    }
   },
   "outputs": [
    {
     "name": "stdout",
     "output_type": "stream",
     "text": [
      "10\n",
      "15\n",
      "20\n",
      "25\n",
      "30\n",
      "35\n"
     ]
    },
    {
     "ename": "KeyboardInterrupt",
     "evalue": "",
     "output_type": "error",
     "traceback": [
      "\u001B[1;31m---------------------------------------------------------------------------\u001B[0m",
      "\u001B[1;31mKeyboardInterrupt\u001B[0m                         Traceback (most recent call last)",
      "Cell \u001B[1;32mIn[86], line 14\u001B[0m\n\u001B[0;32m     12\u001B[0m area \u001B[38;5;241m=\u001B[39m []\n\u001B[0;32m     13\u001B[0m \u001B[38;5;28;01mfor\u001B[39;00m _ \u001B[38;5;129;01min\u001B[39;00m \u001B[38;5;28mrange\u001B[39m(N):\n\u001B[1;32m---> 14\u001B[0m     A \u001B[38;5;241m=\u001B[39m \u001B[43mrandomSampling\u001B[49m\u001B[43m(\u001B[49m\u001B[43mlow\u001B[49m\u001B[43m,\u001B[49m\u001B[43m \u001B[49m\u001B[43mhigh\u001B[49m\u001B[43m,\u001B[49m\u001B[43m \u001B[49m\u001B[43mi\u001B[49m\u001B[43m,\u001B[49m\u001B[43m \u001B[49m\u001B[43msamples\u001B[49m\u001B[43m)\u001B[49m\n\u001B[0;32m     15\u001B[0m     area\u001B[38;5;241m.\u001B[39mappend(A)\n\u001B[0;32m     17\u001B[0m \u001B[38;5;66;03m# Compute mean and standard deviation\u001B[39;00m\n",
      "File \u001B[1;32m~\\Desktop\\School\\CLS\\Stochastic Simulation\\Assignments\\MonteCarloIntegration.py:32\u001B[0m, in \u001B[0;36mrandomSampling\u001B[1;34m(low, high, iterations, samples)\u001B[0m\n\u001B[0;32m     29\u001B[0m     c \u001B[38;5;241m=\u001B[39m real \u001B[38;5;241m+\u001B[39m \u001B[38;5;241m1\u001B[39mj \u001B[38;5;241m*\u001B[39m imag\n\u001B[0;32m     31\u001B[0m     \u001B[38;5;66;03m# Add to mandelbrot area if in set\u001B[39;00m\n\u001B[1;32m---> 32\u001B[0m     N \u001B[38;5;241m+\u001B[39m\u001B[38;5;241m=\u001B[39m \u001B[43minMandelbrotSet\u001B[49m\u001B[43m(\u001B[49m\u001B[43mc\u001B[49m\u001B[43m,\u001B[49m\u001B[43m \u001B[49m\u001B[43miterations\u001B[49m\u001B[43m)\u001B[49m\n\u001B[0;32m     34\u001B[0m \u001B[38;5;66;03m# Compute area of mandelbrot set\u001B[39;00m\n\u001B[0;32m     35\u001B[0m mandelbrot \u001B[38;5;241m=\u001B[39m total \u001B[38;5;241m*\u001B[39m N \u001B[38;5;241m/\u001B[39m samples\n",
      "File \u001B[1;32m~\\Desktop\\School\\CLS\\Stochastic Simulation\\Assignments\\Mandelbrot.py:38\u001B[0m, in \u001B[0;36minMandelbrotSet\u001B[1;34m(c, iterations)\u001B[0m\n\u001B[0;32m     29\u001B[0m \u001B[38;5;250m\u001B[39m\u001B[38;5;124;03m\"\"\"\u001B[39;00m\n\u001B[0;32m     30\u001B[0m \u001B[38;5;124;03mChecks if c is in the Mandelbrot set\u001B[39;00m\n\u001B[0;32m     31\u001B[0m \n\u001B[1;32m   (...)\u001B[0m\n\u001B[0;32m     34\u001B[0m \u001B[38;5;124;03m:return: True if in set, otherwise false\u001B[39;00m\n\u001B[0;32m     35\u001B[0m \u001B[38;5;124;03m\"\"\"\u001B[39;00m\n\u001B[0;32m     37\u001B[0m \u001B[38;5;66;03m# Check value\u001B[39;00m\n\u001B[1;32m---> 38\u001B[0m val \u001B[38;5;241m=\u001B[39m \u001B[43mmandelbrot\u001B[49m\u001B[43m(\u001B[49m\u001B[43mc\u001B[49m\u001B[43m,\u001B[49m\u001B[43m \u001B[49m\u001B[43miterations\u001B[49m\u001B[43m)\u001B[49m\n\u001B[0;32m     40\u001B[0m \u001B[38;5;28;01mreturn\u001B[39;00m val \u001B[38;5;241m!=\u001B[39m np\u001B[38;5;241m.\u001B[39minf\n",
      "File \u001B[1;32m~\\Desktop\\School\\CLS\\Stochastic Simulation\\Assignments\\Mandelbrot.py:18\u001B[0m, in \u001B[0;36mmandelbrot\u001B[1;34m(c, iterations)\u001B[0m\n\u001B[0;32m     15\u001B[0m z \u001B[38;5;241m=\u001B[39m c\n\u001B[0;32m     17\u001B[0m \u001B[38;5;66;03m# Looping\u001B[39;00m\n\u001B[1;32m---> 18\u001B[0m \u001B[38;5;28;01mfor\u001B[39;00m _ \u001B[38;5;129;01min\u001B[39;00m \u001B[38;5;28;43mrange\u001B[39;49m\u001B[43m(\u001B[49m\u001B[43miterations\u001B[49m\u001B[43m)\u001B[49m:\n\u001B[0;32m     19\u001B[0m     \u001B[38;5;66;03m# Goes to infinity\u001B[39;00m\n\u001B[0;32m     20\u001B[0m     \u001B[38;5;28;01mif\u001B[39;00m \u001B[38;5;28mabs\u001B[39m(z) \u001B[38;5;241m>\u001B[39m \u001B[38;5;241m2\u001B[39m:\n\u001B[0;32m     21\u001B[0m         \u001B[38;5;28;01mreturn\u001B[39;00m np\u001B[38;5;241m.\u001B[39minf\n",
      "\u001B[1;31mKeyboardInterrupt\u001B[0m: "
     ]
    }
   ],
   "source": [
    "# Parameters\n",
    "low = -2\n",
    "high = 2\n",
    "samples = 100**2\n",
    "N = 50  # Number of simulations\n",
    "iterations = np.arange(10, 500, 5)\n",
    "\n",
    "# Simulating\n",
    "results = []\n",
    "for i in iterations:\n",
    "    area = []\n",
    "    for _ in range(N):\n",
    "        A = randomSampling(low, high, i, samples)\n",
    "        area.append(A)\n",
    "    \n",
    "    # Compute mean and standard deviation\n",
    "    A_mean = np.mean(area)\n",
    "    A_std = np.std(area, ddof=1)\n",
    "    \n",
    "    # Add to results\n",
    "    results.append([A_mean, A_std])\n",
    "\n",
    "# Convert to numpy array\n",
    "results = np.array(results)"
   ]
  },
  {
   "cell_type": "code",
   "execution_count": null,
   "outputs": [],
   "source": [
    "# Get mean and 95% confidence interval\n",
    "A = results[:, 0]\n",
    "A_err = results[:, 1]\n",
    "\n",
    "# Get difference\n",
    "dA = abs(A[-1] - A)\n",
    "dA_err = (A_err[-1]**2  + A_err**2)**0.5 * 1.96 / np.sqrt(N)\n",
    "\n",
    "# Left and right limit for confidence interval\n",
    "left = dA - dA_err\n",
    "right = dA + dA_err\n",
    "left[left < 0] = 0\n",
    "\n",
    "# Plotting\n",
    "plt.plot(iterations, dA, color='red')\n",
    "\n",
    "# Adding shaded area to show standard deviation\n",
    "plt.fill_between(iterations, dA - dA_err, dA + dA_err, color='red', alpha=0.3)\n",
    "\n",
    "# Setting for plot\n",
    "plt.grid()\n",
    "plt.xlabel('$Iterations$')\n",
    "plt.ylabel('$|A_{j,s} - A_{i,s}|$')"
   ],
   "metadata": {
    "collapsed": false,
    "ExecuteTime": {
     "end_time": "2023-11-15T16:34:30.394611100Z",
     "start_time": "2023-11-15T16:34:30.386611700Z"
    }
   }
  },
  {
   "cell_type": "markdown",
   "source": [
    "# Convergence study for various number of samples"
   ],
   "metadata": {
    "collapsed": false
   }
  },
  {
   "cell_type": "code",
   "execution_count": null,
   "outputs": [],
   "source": [
    "# Parameters\n",
    "low = -2\n",
    "high = 2\n",
    "iterations = 200\n",
    "samples = np.arange(5, 100, 2) ** 2\n",
    "N = 50  # Number of simulations\n",
    "\n",
    "# Simulating\n",
    "results = []\n",
    "for sample in samples:\n",
    "    area = []\n",
    "    for _ in range(N):\n",
    "        A = randomSampling(low, high, iterations, sample)\n",
    "        area.append(A)\n",
    "\n",
    "    # Compute mean and standard deviation\n",
    "    A_mean = np.mean(area)\n",
    "    A_std = np.std(area, ddof=1)\n",
    "\n",
    "    # Add to results\n",
    "    results.append([A_mean, A_std])\n",
    "\n",
    "# Convert to numpy array\n",
    "results = np.array(results)"
   ],
   "metadata": {
    "collapsed": false,
    "ExecuteTime": {
     "start_time": "2023-11-15T16:34:30.391628400Z"
    }
   }
  },
  {
   "cell_type": "code",
   "execution_count": null,
   "outputs": [],
   "source": [
    "# Get mean and 95% confidence interval\n",
    "A = results[:, 0]\n",
    "A_err = results[:, 1]\n",
    "\n",
    "# Get difference\n",
    "dA = abs(A[-1] - A)\n",
    "dA_err = (A_err[-1]**2  + A_err**2)**0.5 * 1.96 / np.sqrt(N)\n",
    "\n",
    "# Left and right limit for confidence interval\n",
    "left = dA - dA_err\n",
    "right = dA + dA_err\n",
    "left[left < 0] = 0\n",
    "\n",
    "# Plotting\n",
    "plt.plot(samples, dA, color='red')\n",
    "\n",
    "# Adding shaded area to show standard deviation\n",
    "plt.fill_between(samples, left, right, color='red', alpha=0.3)\n",
    "\n",
    "# Setting for plot\n",
    "plt.grid()\n",
    "plt.xlabel('$Samples$')\n",
    "plt.ylabel('$|A_{j,s} - A_{i,s}|$')"
   ],
   "metadata": {
    "collapsed": false,
    "ExecuteTime": {
     "end_time": "2023-11-15T16:34:30.394611100Z",
     "start_time": "2023-11-15T16:34:30.394611100Z"
    }
   }
  },
  {
   "cell_type": "markdown",
   "metadata": {},
   "source": [
    "# Using various sampling techniques  "
   ]
  },
  {
   "cell_type": "code",
   "execution_count": null,
   "metadata": {
    "ExecuteTime": {
     "start_time": "2023-11-15T16:34:30.397609300Z"
    }
   },
   "outputs": [],
   "source": []
  },
  {
   "cell_type": "markdown",
   "metadata": {},
   "source": [
    "# Approach for improving convergence"
   ]
  },
  {
   "cell_type": "code",
   "execution_count": null,
   "metadata": {
    "ExecuteTime": {
     "start_time": "2023-11-15T16:34:30.398611700Z"
    }
   },
   "outputs": [],
   "source": []
  }
 ],
 "metadata": {
  "language_info": {
   "name": "python"
  },
  "kernelspec": {
   "name": "python3",
   "language": "python",
   "display_name": "Python 3"
  }
 },
 "nbformat": 4,
 "nbformat_minor": 2
}
